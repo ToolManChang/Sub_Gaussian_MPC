{
 "cells": [
  {
   "cell_type": "code",
   "execution_count": 201,
   "metadata": {},
   "outputs": [],
   "source": [
    "import matplotlib.pyplot as plt\n",
    "import numpy as np\n",
    "from tueplots import bundles\n",
    "from tueplots import figsizes\n",
    "\n",
    "bundle = bundles.icml2024()\n",
    "bundle[\"legend.fontsize\"] = 8\n",
    "bundle[\"font.size\"] = 11\n",
    "plt.rcParams.update(bundle)\n",
    "plt.rcParams.update(figsizes.icml2024_half())"
   ]
  },
  {
   "cell_type": "code",
   "execution_count": 202,
   "metadata": {},
   "outputs": [],
   "source": [
    "data = {\n",
    "    '99': {\n",
    "        'Sub-Gau': {\n",
    "            'Normal': 100.0,\n",
    "            'Laplace': 100.00,\n",
    "            'Uniform': 100.00,\n",
    "            'Skew normal': 99.6,\n",
    "            'Student T': 100.00,\n",
    "            'Registration Error': 99.8,\n",
    "        },\n",
    "        'Gau': {\n",
    "            'Normal': 99.20,\n",
    "            'Laplace': 97.00,\n",
    "            'Uniform': 100.00,\n",
    "            'Triangular': 99.8,\n",
    "            'Student T': 97.4,\n",
    "            'Registration Error': 98.5,\n",
    "        },\n",
    "    },\n",
    "    '90': {\n",
    "        'Sub-Gau': {\n",
    "            'Normal': 99.3,\n",
    "            'Laplace': 97.4,\n",
    "            'Uniform': 100.00,\n",
    "            'Triangular': 100.0,\n",
    "            'Student T': 99.0,\n",
    "            'Registration Error': 98.8,\n",
    "        },\n",
    "        'Gau': {\n",
    "            'Normal': 90.0,\n",
    "            'Laplace': 87.3,\n",
    "            'Uniform': 96.8,\n",
    "            'Skew normal': 91.0,\n",
    "            'Student T': 89.3,\n",
    "            'Registration Errors': 86.8,\n",
    "        },\n",
    "    },\n",
    "}"
   ]
  },
  {
   "cell_type": "code",
   "execution_count": 203,
   "metadata": {},
   "outputs": [],
   "source": [
    "# Labels for the x-axis\n",
    "distributions = list(data[\"99\"][\"Sub-Gau\"].keys())\n",
    "methods = [\"Sub-Gaussian\", \"Gaussian\"]\n",
    "\n",
    "\n",
    "# Function to create bar charts\n",
    "def create_bar_chart(percentage, methods: dict, distributions: dict, min_y: float, legend: bool, ax):\n",
    "    sub_gau_values = list(data[percentage][\"Sub-Gau\"].values())\n",
    "    gau_values = list(data[percentage][\"Gau\"].values())\n",
    "\n",
    "    x = np.arange(len(methods)) * 1.0  # the label locations\n",
    "    num_dists = len(distributions)\n",
    "    width = 0.12  # the width of the bars\n",
    "\n",
    "    bars = []\n",
    "    for i in range(num_dists):\n",
    "        pos = x - width / 2 * (num_dists - 1) + i * width\n",
    "        bar = ax.bar(\n",
    "            pos, [sub_gau_values[i], gau_values[i]], width, label=distributions[i]\n",
    "        )\n",
    "        bars.append(bar)\n",
    "\n",
    "    # Add some text for labels, title and custom x-axis tick labels, etc.\n",
    "    # ax.set_xlabel(\"Methods\")\n",
    "    ax.set_ylabel(\"Inlier ratios (\\%)\")\n",
    "    ax.set_title(\n",
    "        \"Comparison of Bounds at \"\n",
    "        + percentage\n",
    "        + \"\\% confidence level\"\n",
    "    )\n",
    "    ax.set_xticks(x)\n",
    "    ax.set_xticklabels(methods)\n",
    "    if legend:\n",
    "        ax.legend(loc=\"upper right\", ncol=1, frameon=False, bbox_to_anchor=(1.5, 1.0))\n",
    "    ax.set_ylim(min_y, 102)\n",
    "    ax.set_xlim(-0.6, 1.6)\n",
    "    ax.hlines(int(percentage[:2]), -0.5, 1.5, colors=\"r\", linestyles=\"dashed\")\n",
    "    ax.grid(True, linewidth=0.5, c=\"gainsboro\", axis=\"y\")\n",
    "    \n"
   ]
  },
  {
   "cell_type": "code",
   "execution_count": 204,
   "metadata": {},
   "outputs": [
    {
     "name": "stderr",
     "output_type": "stream",
     "text": [
      "/tmp/ipykernel_30687/1307141304.py:5: UserWarning: The figure layout has changed to tight\n",
      "  fig.tight_layout(pad=2.0)\n"
     ]
    },
    {
     "data": {
      "image/png": "[encoded data removed]",
      "text/plain": [
       "<Figure size 675x236.25 with 2 Axes>"
      ]
     },
     "metadata": {},
     "output_type": "display_data"
    }
   ],
   "source": [
    "plt.rcParams.update(\n",
    "        figsizes.icml2024_full(rel_width=1.0, height_to_width_ratio=0.7)\n",
    "    )\n",
    "fig, axes = plt.subplots(1, 2)\n",
    "fig.tight_layout(pad=2.0)\n",
    "create_bar_chart('90', methods, distributions, 85, False, axes[0])\n",
    "create_bar_chart('99', methods, distributions, 95, False, axes[1])\n",
    "lines, labels = axes[0].get_legend_handles_labels()\n",
    "fig.legend(\n",
    "    lines,\n",
    "    labels,\n",
    "    loc=\"center\",\n",
    "    bbox_to_anchor=(0.51, 0.06),\n",
    "    ncol=6,\n",
    "    frameon=False,\n",
    "    handletextpad=0.4,\n",
    ")\n",
    "fig.savefig(\"calibration.pdf\")"
   ]
  }
 ],
 "metadata": {
  "kernelspec": {
   "display_name": "subgau",
   "language": "python",
   "name": "python3"
  },
  "language_info": {
   "codemirror_mode": {
    "name": "ipython",
    "version": 3
   },
   "file_extension": ".py",
   "mimetype": "text/x-python",
   "name": "python",
   "nbconvert_exporter": "python",
   "pygments_lexer": "ipython3",
   "version": "3.9.19"
  }
 },
 "nbformat": 4,
 "nbformat_minor": 2
}
